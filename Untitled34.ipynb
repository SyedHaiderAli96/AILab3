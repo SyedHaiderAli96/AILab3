{
 "cells": [
  {
   "cell_type": "code",
   "execution_count": 1,
   "id": "e6590821-79b4-4c82-8b5c-25a314cf74e8",
   "metadata": {},
   "outputs": [
    {
     "name": "stdout",
     "output_type": "stream",
     "text": [
      "Student Admission Prediction:\n",
      "New Student (6 hours, 75 grade) Prediction: Accept\n",
      "\n",
      "Model Accuracy: 0.6666666666666666\n",
      "\n",
      "Classification Report:\n",
      "              precision    recall  f1-score   support\n",
      "\n",
      "      Accept       0.50      1.00      0.67         1\n",
      "      Reject       1.00      0.50      0.67         2\n",
      "\n",
      "    accuracy                           0.67         3\n",
      "   macro avg       0.75      0.75      0.67         3\n",
      "weighted avg       0.83      0.67      0.67         3\n",
      "\n"
     ]
    }
   ],
   "source": [
    "import numpy as np\n",
    "from sklearn.preprocessing import LabelEncoder\n",
    "from sklearn.neighbors import KNeighborsClassifier\n",
    "from sklearn.model_selection import train_test_split\n",
    "\n",
    "# New Dataset for Student Admission\n",
    "study_hours = [2, 3, 4, 5, 6, 7, 8, 9, 10, 11]\n",
    "previous_grades = [60, 65, 70, 75, 80, 85, 90, 65, 75, 85]\n",
    "admission_status = ['Reject', 'Reject', 'Reject', 'Accept', 'Accept', \n",
    "                    'Accept', 'Accept', 'Reject', 'Reject', 'Accept']\n",
    "\n",
    "# Label Encoding\n",
    "le_status = LabelEncoder()\n",
    "admission_encoded = le_status.fit_transform(admission_status)\n",
    "\n",
    "# Combine features\n",
    "features = list(zip(study_hours, previous_grades))\n",
    "\n",
    "# Split dataset\n",
    "X_train, X_test, y_train, y_test = train_test_split(features, admission_encoded, \n",
    "                                                     test_size=0.3, random_state=42)\n",
    "\n",
    "# Create KNN model\n",
    "knn = KNeighborsClassifier(n_neighbors=3)\n",
    "knn.fit(X_train, y_train)\n",
    "\n",
    "# Predict for new student\n",
    "new_student = [[6, 75]]  # 6 study hours, 75 previous grade\n",
    "prediction = knn.predict(new_student)\n",
    "\n",
    "print(\"Student Admission Prediction:\")\n",
    "print(\"New Student (6 hours, 75 grade) Prediction:\", \n",
    "      le_status.inverse_transform(prediction)[0])\n",
    "\n",
    "# Model Evaluation\n",
    "from sklearn.metrics import accuracy_score, classification_report\n",
    "\n",
    "y_pred = knn.predict(X_test)\n",
    "print(\"\\nModel Accuracy:\", accuracy_score(y_test, y_pred))\n",
    "print(\"\\nClassification Report:\")\n",
    "print(classification_report(y_test, y_pred, \n",
    "                             target_names=le_status.classes_))"
   ]
  },
  {
   "cell_type": "code",
   "execution_count": null,
   "id": "616cecd3-83bb-40d2-a534-6c3c7dbc149f",
   "metadata": {},
   "outputs": [],
   "source": []
  }
 ],
 "metadata": {
  "kernelspec": {
   "display_name": "Python 3 (ipykernel)",
   "language": "python",
   "name": "python3"
  },
  "language_info": {
   "codemirror_mode": {
    "name": "ipython",
    "version": 3
   },
   "file_extension": ".py",
   "mimetype": "text/x-python",
   "name": "python",
   "nbconvert_exporter": "python",
   "pygments_lexer": "ipython3",
   "version": "3.11.7"
  }
 },
 "nbformat": 4,
 "nbformat_minor": 5
}
