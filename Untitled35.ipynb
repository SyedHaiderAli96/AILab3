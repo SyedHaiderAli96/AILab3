{
 "cells": [
  {
   "cell_type": "code",
   "execution_count": 1,
   "id": "d48392c8-5ec4-4f0d-aab5-bde153015e19",
   "metadata": {},
   "outputs": [
    {
     "name": "stdout",
     "output_type": "stream",
     "text": [
      "Smartphone Price Classification:\n",
      "\n",
      "Training Data:\n",
      "Phone 1: [3000.     4.     5.5] - Category Budget\n",
      "Phone 2: [3500.    6.    6.] - Category Mid-range\n",
      "Phone 3: [4000.     8.     6.5] - Category Premium\n",
      "Phone 4: [2500.    3.    5.] - Category Budget\n",
      "Phone 5: [4500.     8.     6.7] - Category Premium\n",
      "\n",
      "Query Phone Specifications: [3200.     5.     5.8]\n",
      "Distances: [0.7406614216704848, 0.7223603627558488, 2.1646835906407493, 1.8879238634745832, 2.756304423310041]\n",
      "Nearest Neighbors Categories: ['Mid-range' 'Budget' 'Budget']\n",
      "Predicted Phone Category: Budget\n",
      "\n",
      "Detailed Neighbor Information:\n",
      "Phone 1: Distance = 0.74, Category = Budget\n",
      "Phone 2: Distance = 0.72, Category = Mid-range\n",
      "Phone 3: Distance = 2.16, Category = Premium\n",
      "Phone 4: Distance = 1.89, Category = Budget\n",
      "Phone 5: Distance = 2.76, Category = Premium\n"
     ]
    }
   ],
   "source": [
    "import numpy as np\n",
    "from scipy.spatial.distance import euclidean\n",
    "from sklearn.preprocessing import StandardScaler\n",
    "\n",
    "# New Dataset for Smartphone Price Classification\n",
    "# Features: Battery Capacity (mAh), RAM (GB), Screen Size (inches)\n",
    "X_train = np.array([\n",
    "    [3000, 4, 5.5],   # Budget Phone\n",
    "    [3500, 6, 6.0],   # Mid-range Phone\n",
    "    [4000, 8, 6.5],   # Premium Phone\n",
    "    [2500, 3, 5.0],   # Budget Phone\n",
    "    [4500, 8, 6.7],   # Premium Phone\n",
    "])\n",
    "y_train = np.array(['Budget', 'Mid-range', 'Premium', 'Budget', 'Premium'])\n",
    "\n",
    "# Standardize features\n",
    "scaler = StandardScaler()\n",
    "X_train_scaled = scaler.fit_transform(X_train)\n",
    "\n",
    "# Query Instance (New Smartphone)\n",
    "query_point = np.array([[3200, 5, 5.8]])\n",
    "query_point_scaled = scaler.transform(query_point)\n",
    "\n",
    "# Function to perform KNN classification\n",
    "def knn_classify(X_train, y_train, query_point, K=3):\n",
    "    # Calculate distances\n",
    "    distances = [np.linalg.norm(query_point - x) for x in X_train]\n",
    "    \n",
    "    # Sort distances and get indices\n",
    "    sorted_indices = np.argsort(distances)\n",
    "    \n",
    "    # Select K nearest neighbors\n",
    "    nearest_neighbors_labels = y_train[sorted_indices[:K]]\n",
    "    \n",
    "    # Majority voting\n",
    "    unique_labels, counts = np.unique(nearest_neighbors_labels, return_counts=True)\n",
    "    predicted_class = unique_labels[np.argmax(counts)]\n",
    "    \n",
    "    return predicted_class, distances, nearest_neighbors_labels\n",
    "\n",
    "# Classify the new smartphone\n",
    "predicted_class, distances, nearest_neighbors = knn_classify(\n",
    "    X_train_scaled, y_train, query_point_scaled)\n",
    "\n",
    "# Detailed Output\n",
    "print(\"Smartphone Price Classification:\")\n",
    "print(\"\\nTraining Data:\")\n",
    "for i, (point, label) in enumerate(zip(X_train, y_train), 1):\n",
    "    print(f\"Phone {i}: {point} - Category {label}\")\n",
    "\n",
    "print(\"\\nQuery Phone Specifications:\", query_point[0])\n",
    "print(\"Distances:\", distances)\n",
    "print(\"Nearest Neighbors Categories:\", nearest_neighbors)\n",
    "print(\"Predicted Phone Category:\", predicted_class)\n",
    "\n",
    "# Additional Analysis\n",
    "print(\"\\nDetailed Neighbor Information:\")\n",
    "for i, (dist, label) in enumerate(zip(distances, y_train), 1):\n",
    "    print(f\"Phone {i}: Distance = {dist:.2f}, Category = {label}\")"
   ]
  },
  {
   "cell_type": "code",
   "execution_count": null,
   "id": "29adbc19-b8c2-440e-a9be-4834027d752a",
   "metadata": {},
   "outputs": [],
   "source": []
  }
 ],
 "metadata": {
  "kernelspec": {
   "display_name": "Python 3 (ipykernel)",
   "language": "python",
   "name": "python3"
  },
  "language_info": {
   "codemirror_mode": {
    "name": "ipython",
    "version": 3
   },
   "file_extension": ".py",
   "mimetype": "text/x-python",
   "name": "python",
   "nbconvert_exporter": "python",
   "pygments_lexer": "ipython3",
   "version": "3.11.7"
  }
 },
 "nbformat": 4,
 "nbformat_minor": 5
}
