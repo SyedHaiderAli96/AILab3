{
 "cells": [
  {
   "cell_type": "code",
   "execution_count": 1,
   "id": "36fda7ab-f070-44ea-92ed-3474366ef475",
   "metadata": {},
   "outputs": [
    {
     "name": "stdout",
     "output_type": "stream",
     "text": [
      "Weather Play Prediction:\n",
      "New Instance (Overcast, Mild) Prediction: Yes\n"
     ]
    }
   ],
   "source": [
    "import numpy as np\n",
    "from sklearn.preprocessing import LabelEncoder\n",
    "from sklearn.neighbors import KNeighborsClassifier\n",
    "from sklearn.model_selection import train_test_split\n",
    "\n",
    "# Dataset\n",
    "weather = ['Sunny', 'Sunny', 'Overcast', 'Rainy', 'Rainy', 'Overcast']\n",
    "temperature = ['Hot', 'Hot', 'Mild', 'Cool', 'Cool', 'Mild']\n",
    "play = ['No', 'No', 'Yes', 'Yes', 'Yes', 'Yes']\n",
    "\n",
    "# Label Encoding\n",
    "le_weather = LabelEncoder()\n",
    "le_temp = LabelEncoder()\n",
    "le_play = LabelEncoder()\n",
    "\n",
    "weather_encoded = le_weather.fit_transform(weather)\n",
    "temperature_encoded = le_temp.fit_transform(temperature)\n",
    "play_encoded = le_play.fit_transform(play)\n",
    "\n",
    "# Combine features\n",
    "features = list(zip(weather_encoded, temperature_encoded))\n",
    "\n",
    "# Split dataset\n",
    "X_train, X_test, y_train, y_test = train_test_split(features, play_encoded, test_size=0.2, random_state=42)\n",
    "\n",
    "# Create KNN model\n",
    "knn = KNeighborsClassifier(n_neighbors=3)\n",
    "knn.fit(X_train, y_train)\n",
    "\n",
    "# Predict for new instance (Overcast, Mild)\n",
    "new_instance = [[le_weather.transform(['Overcast'])[0], le_temp.transform(['Mild'])[0]]]\n",
    "prediction = knn.predict(new_instance)\n",
    "\n",
    "print(\"Weather Play Prediction:\")\n",
    "print(\"New Instance (Overcast, Mild) Prediction:\", \n",
    "      le_play.inverse_transform(prediction)[0])"
   ]
  },
  {
   "cell_type": "code",
   "execution_count": null,
   "id": "1d176fa9-57d7-4162-b137-359589111c93",
   "metadata": {},
   "outputs": [],
   "source": []
  }
 ],
 "metadata": {
  "kernelspec": {
   "display_name": "Python 3 (ipykernel)",
   "language": "python",
   "name": "python3"
  },
  "language_info": {
   "codemirror_mode": {
    "name": "ipython",
    "version": 3
   },
   "file_extension": ".py",
   "mimetype": "text/x-python",
   "name": "python",
   "nbconvert_exporter": "python",
   "pygments_lexer": "ipython3",
   "version": "3.11.7"
  }
 },
 "nbformat": 4,
 "nbformat_minor": 5
}
