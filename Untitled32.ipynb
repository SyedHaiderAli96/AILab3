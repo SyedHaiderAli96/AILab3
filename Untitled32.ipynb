{
 "cells": [
  {
   "cell_type": "code",
   "execution_count": 1,
   "id": "684c77d8-0b63-4813-b399-2b185d888c39",
   "metadata": {},
   "outputs": [
    {
     "name": "stdout",
     "output_type": "stream",
     "text": [
      "\n",
      "Tissue Paper Classification:\n",
      "Training Data:\n",
      "Sample 1: [1 2] - Class A\n",
      "Sample 2: [2 3] - Class A\n",
      "Sample 3: [5 6] - Class B\n",
      "Sample 4: [6 7] - Class B\n",
      "\n",
      "Query Point: [3 7]\n",
      "Distances: [5.385164807134504, 4.123105625617661, 2.23606797749979, 3.0]\n",
      "Nearest Neighbors Labels: ['B' 'B' 'A']\n",
      "Predicted Class: B\n"
     ]
    }
   ],
   "source": [
    "import numpy as np\n",
    "from scipy.spatial.distance import euclidean\n",
    "\n",
    "# Training Data\n",
    "X_train = np.array([[1, 2], [2, 3], [5, 6], [6, 7]])\n",
    "y_train = np.array(['A', 'A', 'B', 'B'])\n",
    "\n",
    "# Query Instance\n",
    "query_point = np.array([3, 7])\n",
    "\n",
    "# Calculate Euclidean Distances\n",
    "distances = [euclidean(query_point, point) for point in X_train]\n",
    "\n",
    "# Sort distances and get indices\n",
    "sorted_indices = np.argsort(distances)\n",
    "\n",
    "# Select K nearest neighbors (K=3)\n",
    "K = 3\n",
    "nearest_neighbors_labels = y_train[sorted_indices[:K]]\n",
    "\n",
    "# Majority Voting\n",
    "unique_labels, counts = np.unique(nearest_neighbors_labels, return_counts=True)\n",
    "predicted_class = unique_labels[np.argmax(counts)]\n",
    "\n",
    "print(\"\\nTissue Paper Classification:\")\n",
    "print(\"Training Data:\")\n",
    "for i, (point, label) in enumerate(zip(X_train, y_train), 1):\n",
    "    print(f\"Sample {i}: {point} - Class {label}\")\n",
    "\n",
    "print(\"\\nQuery Point:\", query_point)\n",
    "print(\"Distances:\", distances)\n",
    "print(\"Nearest Neighbors Labels:\", nearest_neighbors_labels)\n",
    "print(\"Predicted Class:\", predicted_class)"
   ]
  },
  {
   "cell_type": "code",
   "execution_count": null,
   "id": "f5d68824-5604-492a-8322-fb71ecf23286",
   "metadata": {},
   "outputs": [],
   "source": []
  }
 ],
 "metadata": {
  "kernelspec": {
   "display_name": "Python 3 (ipykernel)",
   "language": "python",
   "name": "python3"
  },
  "language_info": {
   "codemirror_mode": {
    "name": "ipython",
    "version": 3
   },
   "file_extension": ".py",
   "mimetype": "text/x-python",
   "name": "python",
   "nbconvert_exporter": "python",
   "pygments_lexer": "ipython3",
   "version": "3.11.7"
  }
 },
 "nbformat": 4,
 "nbformat_minor": 5
}
